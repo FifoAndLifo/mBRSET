{
 "cells": [
  {
   "cell_type": "markdown",
   "id": "67caa755",
   "metadata": {},
   "source": [
    "### Setup Environment:"
   ]
  },
  {
   "cell_type": "code",
   "execution_count": 1,
   "id": "ff7164ae",
   "metadata": {},
   "outputs": [],
   "source": [
    "from src.get_dataset import get_dataset, split_data\n",
    "from src.data_loader import BRSETDataset, process_labels\n",
    "from src.model import FoundationalCVModel, FoundationalCVModelWithClassifier\n",
    "from sklearn.utils.class_weight import compute_class_weight\n",
    "from torch.utils.data import DataLoader\n",
    "import torch\n",
    "import torch.nn as nn\n",
    "\n",
    "import torch.optim as optim\n",
    "from torchvision import transforms\n",
    "import os\n",
    "import matplotlib.pyplot as plt\n",
    "import numpy as np\n",
    "\n",
    "# loss function and optimizer\n",
    "from src.FocalLoss import BinaryFocalLoss, FocalLoss\n",
    "\n",
    "# train and test functions\n",
    "from src.train import train\n",
    "from src.test import test"
   ]
  },
  {
   "cell_type": "code",
   "execution_count": 2,
   "id": "41c1eda4",
   "metadata": {},
   "outputs": [],
   "source": [
    "# Constants:\n",
    "DATASET = '/opc/davidres/retina/mbrset/data'\n",
    "DOWNLOAD = False\n",
    "SHAPE = (224, 224)\n",
    "IMAGES = os.path.join(DATASET, 'mBRSET/')\n",
    "LABEL = 'insurance'\n",
    "TEST_SIZE = 0.2\n",
    "UNDERSAMPLE = False\n",
    "\n",
    "LABELS_PATH = os.path.join(DATASET, 'labels.csv')\n",
    "IMAGE_COL = 'file'\n",
    "\n",
    "\"\"\"\n",
    "Dataset Mean and Std:\n",
    "NORM_MEAN = [0.5896205017400412, 0.29888971649817453, 0.1107679405196557]\n",
    "NORM_STD = [0.28544273712830986, 0.15905456049750208, 0.07012281660980953]\n",
    "\n",
    "ImageNet Mean and Std:\n",
    "NORM_MEAN = [0.485, 0.456, 0.406]\n",
    "NORM_STD = [0.229, 0.224, 0.225]\n",
    "\"\"\"\n",
    "\n",
    "NORM_MEAN = [0.485, 0.456, 0.406]\n",
    "NORM_STD =  [0.229, 0.224, 0.225]\n",
    "\n",
    "BACKBONE = 'convnextv2_384'\n",
    "MODE = 'fine_tune'\n",
    "backbone_mode = 'fine_tune'\n",
    "\n",
    "HIDDEN = [128]\n",
    "num_classes = 2\n",
    "\n",
    "BATCH_SIZE = 20\n",
    "NUM_WORKERS = 4\n",
    "\n",
    "LOSS = 'focal_loss'\n",
    "OPTIMIZER = 'adam'\n",
    "\n",
    "# Define your hyperparameters\n",
    "num_epochs = 50\n",
    "learning_rate = 1e-5\n",
    "\n",
    "device = torch.device('cuda' if torch.cuda.is_available() else 'cpu')"
   ]
  },
  {
   "cell_type": "markdown",
   "id": "986a7eab",
   "metadata": {},
   "source": [
    "#### Read csv file:"
   ]
  },
  {
   "cell_type": "code",
   "execution_count": 3,
   "id": "0487e2b5",
   "metadata": {},
   "outputs": [
    {
     "name": "stdout",
     "output_type": "stream",
     "text": [
      "loading csv file in /home/chenweiw/retina/mbrset/data/labels.csv\n"
     ]
    },
    {
     "data": {
      "text/html": [
       "<div>\n",
       "<style scoped>\n",
       "    .dataframe tbody tr th:only-of-type {\n",
       "        vertical-align: middle;\n",
       "    }\n",
       "\n",
       "    .dataframe tbody tr th {\n",
       "        vertical-align: top;\n",
       "    }\n",
       "\n",
       "    .dataframe thead th {\n",
       "        text-align: right;\n",
       "    }\n",
       "</style>\n",
       "<table border=\"1\" class=\"dataframe\">\n",
       "  <thead>\n",
       "    <tr style=\"text-align: right;\">\n",
       "      <th></th>\n",
       "      <th>patient</th>\n",
       "      <th>age</th>\n",
       "      <th>sex</th>\n",
       "      <th>dm_time</th>\n",
       "      <th>insulin</th>\n",
       "      <th>insulin_time</th>\n",
       "      <th>oraltreatment_dm</th>\n",
       "      <th>systemic_hypertension</th>\n",
       "      <th>insurance</th>\n",
       "      <th>educational_level</th>\n",
       "      <th>...</th>\n",
       "      <th>nephropathy</th>\n",
       "      <th>neuropathy</th>\n",
       "      <th>diabetic_foot</th>\n",
       "      <th>file</th>\n",
       "      <th>laterality</th>\n",
       "      <th>final_artifacts</th>\n",
       "      <th>final_quality</th>\n",
       "      <th>final_icdr</th>\n",
       "      <th>final_edema</th>\n",
       "      <th>normality</th>\n",
       "    </tr>\n",
       "  </thead>\n",
       "  <tbody>\n",
       "    <tr>\n",
       "      <th>0</th>\n",
       "      <td>1</td>\n",
       "      <td>58</td>\n",
       "      <td>1</td>\n",
       "      <td>15.0</td>\n",
       "      <td>1.0</td>\n",
       "      <td>NaN</td>\n",
       "      <td>1.0</td>\n",
       "      <td>1.0</td>\n",
       "      <td>0.0</td>\n",
       "      <td>3.0</td>\n",
       "      <td>...</td>\n",
       "      <td>1.0</td>\n",
       "      <td>0.0</td>\n",
       "      <td>0.0</td>\n",
       "      <td>1.1.jpg</td>\n",
       "      <td>right</td>\n",
       "      <td>yes</td>\n",
       "      <td>yes</td>\n",
       "      <td>4.0</td>\n",
       "      <td>no</td>\n",
       "      <td>abnormal</td>\n",
       "    </tr>\n",
       "    <tr>\n",
       "      <th>1</th>\n",
       "      <td>1</td>\n",
       "      <td>58</td>\n",
       "      <td>1</td>\n",
       "      <td>15.0</td>\n",
       "      <td>1.0</td>\n",
       "      <td>NaN</td>\n",
       "      <td>1.0</td>\n",
       "      <td>1.0</td>\n",
       "      <td>0.0</td>\n",
       "      <td>3.0</td>\n",
       "      <td>...</td>\n",
       "      <td>1.0</td>\n",
       "      <td>0.0</td>\n",
       "      <td>0.0</td>\n",
       "      <td>1.2.jpg</td>\n",
       "      <td>right</td>\n",
       "      <td>yes</td>\n",
       "      <td>yes</td>\n",
       "      <td>4.0</td>\n",
       "      <td>no</td>\n",
       "      <td>abnormal</td>\n",
       "    </tr>\n",
       "    <tr>\n",
       "      <th>2</th>\n",
       "      <td>1</td>\n",
       "      <td>58</td>\n",
       "      <td>1</td>\n",
       "      <td>15.0</td>\n",
       "      <td>1.0</td>\n",
       "      <td>NaN</td>\n",
       "      <td>1.0</td>\n",
       "      <td>1.0</td>\n",
       "      <td>0.0</td>\n",
       "      <td>3.0</td>\n",
       "      <td>...</td>\n",
       "      <td>1.0</td>\n",
       "      <td>0.0</td>\n",
       "      <td>0.0</td>\n",
       "      <td>1.3.jpg</td>\n",
       "      <td>left</td>\n",
       "      <td>yes</td>\n",
       "      <td>yes</td>\n",
       "      <td>4.0</td>\n",
       "      <td>no</td>\n",
       "      <td>abnormal</td>\n",
       "    </tr>\n",
       "    <tr>\n",
       "      <th>3</th>\n",
       "      <td>1</td>\n",
       "      <td>58</td>\n",
       "      <td>1</td>\n",
       "      <td>15.0</td>\n",
       "      <td>1.0</td>\n",
       "      <td>NaN</td>\n",
       "      <td>1.0</td>\n",
       "      <td>1.0</td>\n",
       "      <td>0.0</td>\n",
       "      <td>3.0</td>\n",
       "      <td>...</td>\n",
       "      <td>1.0</td>\n",
       "      <td>0.0</td>\n",
       "      <td>0.0</td>\n",
       "      <td>1.4.jpg</td>\n",
       "      <td>left</td>\n",
       "      <td>yes</td>\n",
       "      <td>yes</td>\n",
       "      <td>4.0</td>\n",
       "      <td>no</td>\n",
       "      <td>abnormal</td>\n",
       "    </tr>\n",
       "    <tr>\n",
       "      <th>4</th>\n",
       "      <td>10</td>\n",
       "      <td>63</td>\n",
       "      <td>0</td>\n",
       "      <td>7.0</td>\n",
       "      <td>0.0</td>\n",
       "      <td>NaN</td>\n",
       "      <td>1.0</td>\n",
       "      <td>1.0</td>\n",
       "      <td>0.0</td>\n",
       "      <td>2.0</td>\n",
       "      <td>...</td>\n",
       "      <td>0.0</td>\n",
       "      <td>0.0</td>\n",
       "      <td>0.0</td>\n",
       "      <td>10.1.jpg</td>\n",
       "      <td>right</td>\n",
       "      <td>yes</td>\n",
       "      <td>yes</td>\n",
       "      <td>0.0</td>\n",
       "      <td>no</td>\n",
       "      <td>abnormal</td>\n",
       "    </tr>\n",
       "  </tbody>\n",
       "</table>\n",
       "<p>5 rows × 25 columns</p>\n",
       "</div>"
      ],
      "text/plain": [
       "   patient  age  sex  dm_time  insulin  insulin_time  oraltreatment_dm  \\\n",
       "0        1   58    1     15.0      1.0           NaN               1.0   \n",
       "1        1   58    1     15.0      1.0           NaN               1.0   \n",
       "2        1   58    1     15.0      1.0           NaN               1.0   \n",
       "3        1   58    1     15.0      1.0           NaN               1.0   \n",
       "4       10   63    0      7.0      0.0           NaN               1.0   \n",
       "\n",
       "   systemic_hypertension  insurance  educational_level  ...  nephropathy  \\\n",
       "0                    1.0        0.0                3.0  ...          1.0   \n",
       "1                    1.0        0.0                3.0  ...          1.0   \n",
       "2                    1.0        0.0                3.0  ...          1.0   \n",
       "3                    1.0        0.0                3.0  ...          1.0   \n",
       "4                    1.0        0.0                2.0  ...          0.0   \n",
       "\n",
       "   neuropathy  diabetic_foot      file  laterality  final_artifacts  \\\n",
       "0         0.0            0.0   1.1.jpg       right              yes   \n",
       "1         0.0            0.0   1.2.jpg       right              yes   \n",
       "2         0.0            0.0   1.3.jpg        left              yes   \n",
       "3         0.0            0.0   1.4.jpg        left              yes   \n",
       "4         0.0            0.0  10.1.jpg       right              yes   \n",
       "\n",
       "   final_quality  final_icdr final_edema normality  \n",
       "0            yes         4.0          no  abnormal  \n",
       "1            yes         4.0          no  abnormal  \n",
       "2            yes         4.0          no  abnormal  \n",
       "3            yes         4.0          no  abnormal  \n",
       "4            yes         0.0          no  abnormal  \n",
       "\n",
       "[5 rows x 25 columns]"
      ]
     },
     "execution_count": 3,
     "metadata": {},
     "output_type": "execute_result"
    }
   ],
   "source": [
    "df = get_dataset(DATASET, download=DOWNLOAD, info=False)\n",
    "df = df[df['file'] != '985.1.jpg'] # this is missing\n",
    "df.head()"
   ]
  },
  {
   "cell_type": "code",
   "execution_count": 4,
   "id": "458d25cd-7441-47d0-9162-ea3395d63062",
   "metadata": {},
   "outputs": [
    {
     "data": {
      "text/plain": [
       "0.0    4719\n",
       "1.0     396\n",
       "Name: insurance, dtype: int64"
      ]
     },
     "execution_count": 4,
     "metadata": {},
     "output_type": "execute_result"
    }
   ],
   "source": [
    "df.insurance.value_counts()"
   ]
  },
  {
   "cell_type": "code",
   "execution_count": 5,
   "id": "1c6b0fe3",
   "metadata": {},
   "outputs": [],
   "source": [
    "\n",
    "df[LABEL] = df[LABEL].apply(lambda x: '0' if x == 0 else '1')"
   ]
  },
  {
   "cell_type": "code",
   "execution_count": 6,
   "id": "67474a76-a491-40f1-aaaf-0efef26bd85f",
   "metadata": {},
   "outputs": [
    {
     "data": {
      "text/plain": [
       "0    4719\n",
       "1     444\n",
       "Name: insurance, dtype: int64"
      ]
     },
     "execution_count": 6,
     "metadata": {},
     "output_type": "execute_result"
    }
   ],
   "source": [
    "df[LABEL].value_counts()"
   ]
  },
  {
   "cell_type": "code",
   "execution_count": 7,
   "id": "d2830ec9",
   "metadata": {},
   "outputs": [
    {
     "name": "stdout",
     "output_type": "stream",
     "text": [
      "Train data shape: (4130, 25)\n",
      "Test data shape: (1033, 25)\n"
     ]
    },
    {
     "data": {
      "image/png": "[encoded data removed]",
      "text/plain": [
       "<Figure size 720x360 with 2 Axes>"
      ]
     },
     "metadata": {
      "needs_background": "light"
     },
     "output_type": "display_data"
    },
    {
     "name": "stdout",
     "output_type": "stream",
     "text": [
      "Getting validation set...\n"
     ]
    }
   ],
   "source": [
    "# Split dataset into train, test and validation:\n",
    "df_train, df_test = split_data(df, LABEL, TEST_SIZE, undersample=False)\n",
    "print('Getting validation set...')\n",
    "# df_test, df_val = split_data(df_test, LABEL, 0.20)\n",
    "df_val=df_test"
   ]
  },
  {
   "cell_type": "markdown",
   "id": "93e7975b",
   "metadata": {},
   "source": [
    "### Dataloaders"
   ]
  },
  {
   "cell_type": "code",
   "execution_count": 8,
   "id": "33f243f6",
   "metadata": {},
   "outputs": [],
   "source": [
    "# Train the one hot encoder on the train set and get the labels for the test and validation sets:\n",
    "train_labels, mlb, train_columns = process_labels(df_train, col=LABEL)"
   ]
  },
  {
   "cell_type": "code",
   "execution_count": 9,
   "id": "fb38e445",
   "metadata": {},
   "outputs": [],
   "source": [
    "# Define the target image shape\n",
    "SHAPE = (224, 224)  # Adjust to your desired image size\n",
    "\n",
    "train_transforms = transforms.Compose([\n",
    "    transforms.Resize((SHAPE)),\n",
    "    # transforms.RandomCrop(SHAPE),\n",
    "    transforms.ToTensor(),\n",
    "    transforms.RandomHorizontalFlip(),  # Randomly flip the image horizontally\n",
    "    transforms.RandomRotation(25),  # Randomly rotate the image by up to 10 degrees\n",
    "])\n",
    "\n",
    "if NORM_MEAN is not None and NORM_STD is not None:\n",
    "    train_transforms.transforms.append(transforms.Normalize(mean=NORM_MEAN, std=NORM_STD))\n",
    "\n",
    "test_transform = transforms.Compose([\n",
    "    transforms.Resize(SHAPE),\n",
    "    transforms.ToTensor(),\n",
    "])\n",
    "\n",
    "if NORM_MEAN is not None and NORM_STD is not None:\n",
    "    test_transform.transforms.append(transforms.Normalize(mean=NORM_MEAN, std=NORM_STD))\n"
   ]
  },
  {
   "cell_type": "code",
   "execution_count": 10,
   "id": "5aa0b4e3",
   "metadata": {},
   "outputs": [],
   "source": [
    "# Create the custom dataset\n",
    "train_dataset = BRSETDataset(\n",
    "    df_train, \n",
    "    IMAGE_COL, \n",
    "    IMAGES, \n",
    "    LABEL, \n",
    "    mlb, \n",
    "    train_columns, \n",
    "    transform=train_transforms\n",
    ")\n",
    "\n",
    "test_dataset = BRSETDataset(\n",
    "    df_test, \n",
    "    IMAGE_COL, \n",
    "    IMAGES, \n",
    "    LABEL, \n",
    "    mlb, \n",
    "    train_columns, \n",
    "    transform=test_transform\n",
    ")\n",
    "\n",
    "val_dataset = BRSETDataset(\n",
    "    df_val, \n",
    "    IMAGE_COL, \n",
    "    IMAGES, \n",
    "    LABEL, \n",
    "    mlb, \n",
    "    train_columns, \n",
    "    transform=test_transform\n",
    ")\n",
    "\n",
    "train_dataloader = DataLoader(train_dataset, batch_size=BATCH_SIZE, shuffle=True, num_workers=NUM_WORKERS, pin_memory=True)\n",
    "test_dataloader = DataLoader(test_dataset, batch_size=BATCH_SIZE, shuffle=False, num_workers=NUM_WORKERS, pin_memory=True)\n",
    "val_dataloader = DataLoader(val_dataset, batch_size=BATCH_SIZE, shuffle=False, num_workers=NUM_WORKERS, pin_memory=True)"
   ]
  },
  {
   "cell_type": "code",
   "execution_count": 11,
   "id": "edec00bf",
   "metadata": {},
   "outputs": [
    {
     "name": "stderr",
     "output_type": "stream",
     "text": [
      "Clipping input data to the valid range for imshow with RGB data ([0..1] for floats or [0..255] for integers).\n",
      "Clipping input data to the valid range for imshow with RGB data ([0..1] for floats or [0..255] for integers).\n",
      "Clipping input data to the valid range for imshow with RGB data ([0..1] for floats or [0..255] for integers).\n",
      "Clipping input data to the valid range for imshow with RGB data ([0..1] for floats or [0..255] for integers).\n",
      "Clipping input data to the valid range for imshow with RGB data ([0..1] for floats or [0..255] for integers).\n",
      "Clipping input data to the valid range for imshow with RGB data ([0..1] for floats or [0..255] for integers).\n"
     ]
    },
    {
     "data": {
      "image/png": "[encoded data removed]",
      "text/plain": [
       "<Figure size 432x288 with 6 Axes>"
      ]
     },
     "metadata": {
      "needs_background": "light"
     },
     "output_type": "display_data"
    }
   ],
   "source": [
    "# Print 6 samples with their labels\n",
    "# Iterate through the DataLoader and plot the images with labels\n",
    "for batch in train_dataloader:\n",
    "    images, labels = batch['image'], batch['labels']\n",
    "\n",
    "    for i in range(len(images)):\n",
    "        if i == 6:\n",
    "            break\n",
    "        plt.subplot(2, 3, i + 1)\n",
    "        plt.imshow(images[i].permute(1, 2, 0))  # Permute to (H, W, C) from (C, H, W)\n",
    "        plt.title(f\"Label: {labels[i]}\")\n",
    "        plt.axis('off')\n",
    "    plt.show()\n",
    "    break"
   ]
  },
  {
   "cell_type": "markdown",
   "id": "038f0fb7",
   "metadata": {},
   "source": [
    "### Model"
   ]
  },
  {
   "cell_type": "code",
   "execution_count": 12,
   "id": "8a652c24",
   "metadata": {},
   "outputs": [],
   "source": [
    "# Create a DataLoader to generate embeddings\n",
    "#model = get_retfound(weights='/scratch/liyues_root/liyues/chenweiw/retina_datasets/retfound_weigths/RETFound_cfp_weights.pth', num_classes=3)\n",
    "# Create a DataLoader to generate embeddings\n",
    "from transformers import ConvNextV2Model, ConvNextV2ForImageClassification\n",
    "import torch\n",
    "\n",
    "# Load the pre-trained ConvNeXt V2 model\n",
    "model_name = \"facebook/convnextv2-large-22k-384\"\n",
    "model = ConvNextV2ForImageClassification.from_pretrained(model_name)\n",
    "\n",
    "# Modify the classifier head according to the new number of classes\n",
    "model.classifier = torch.nn.Linear(model.classifier.in_features, num_classes)\n",
    "model.to(device)\n",
    "\n",
    "# Use DataParallel to parallelize the model across multiple GPUs\n",
    "if torch.cuda.device_count() > 1:\n",
    "    print(\"Using\", torch.cuda.device_count(), \"GPUs!\")\n",
    "    model = nn.DataParallel(model, [0,1])"
   ]
  },
  {
   "cell_type": "markdown",
   "id": "7dc7e0f3",
   "metadata": {},
   "source": [
    "### Training:"
   ]
  },
  {
   "cell_type": "code",
   "execution_count": 13,
   "id": "a49bc284",
   "metadata": {},
   "outputs": [
    {
     "name": "stdout",
     "output_type": "stream",
     "text": [
      "Class distribution: [3775  355]\n"
     ]
    }
   ],
   "source": [
    "if LOSS == 'focal_loss':\n",
    "    class_distribution = train_dataloader.dataset.labels.sum(axis=0)\n",
    "    print(f'Class distribution: {class_distribution}')\n",
    "    class_dis = np.array(class_distribution)\n",
    "    class_weights =1-class_dis/np.sum(class_dis)\n",
    "    weights = torch.tensor(class_weights).to(device)\n",
    "    #criterion = FocalLoss()  # Focal Loss\n",
    "    criterion = FocalLoss(gamma=2, alpha=weights)\n",
    "else:\n",
    "    # Assuming train_loader.dataset.labels is a one-hot representation\n",
    "    class_indices = np.argmax(train_dataloader.dataset.labels, axis=1)\n",
    "\n",
    "    # Compute class weights using class indices\n",
    "    class_weights = compute_class_weight('balanced', classes=np.unique(class_indices), y=class_indices)\n",
    "    class_weights = torch.tensor(class_weights, dtype=torch.float32)\n",
    "    print(class_weights)\n",
    "    criterion = nn.CrossEntropyLoss(weight=class_weights).to(device)\n",
    "    #criterion = nn.BCEWithLogitsLoss() # Binary Cross-Entropy Loss\n",
    "\n",
    "if OPTIMIZER == 'adam':\n",
    "    optimizer = optim.Adam(model.parameters(), lr=learning_rate)\n",
    "elif OPTIMIZER == 'adamw':\n",
    "    optimizer = optim.AdamW(model.parameters(), lr=learning_rate)\n",
    "else:\n",
    "    optimizer = optim.SGD(model.parameters(), lr=learning_rate, momentum=0.9)"
   ]
  },
  {
   "cell_type": "code",
   "execution_count": null,
   "id": "264f3f1f",
   "metadata": {},
   "outputs": [
    {
     "name": "stderr",
     "output_type": "stream",
     "text": [
      "100%|██████████| 207/207 [02:04<00:00,  1.67it/s]\n",
      "100%|██████████| 52/52 [00:25<00:00,  2.04it/s]\n"
     ]
    },
    {
     "name": "stdout",
     "output_type": "stream",
     "text": [
      "Epoch 1, Train Loss: 0.028396483319519078, Val Loss: 0.027910563485840194, F1 Score: 0.12515492026770222, acc0.12681510164569215\n",
      "cm[[ 43 901]\n",
      " [  1  88]]\n"
     ]
    },
    {
     "name": "stderr",
     "output_type": "stream",
     "text": [
      "100%|██████████| 207/207 [02:00<00:00,  1.71it/s]\n",
      "100%|██████████| 52/52 [00:25<00:00,  2.05it/s]\n"
     ]
    },
    {
     "name": "stdout",
     "output_type": "stream",
     "text": [
      "Epoch 2, Train Loss: 0.026619790670808385, Val Loss: 0.026406089381243173, F1 Score: 0.5387804566909045, acc0.7560503388189739\n",
      "cm[[745 199]\n",
      " [ 53  36]]\n"
     ]
    },
    {
     "name": "stderr",
     "output_type": "stream",
     "text": [
      "100%|██████████| 207/207 [02:01<00:00,  1.71it/s]\n",
      "100%|██████████| 52/52 [00:25<00:00,  2.05it/s]\n"
     ]
    },
    {
     "name": "stdout",
     "output_type": "stream",
     "text": [
      "Epoch 3, Train Loss: 0.024287171056719074, Val Loss: 0.028282992810440753, F1 Score: 0.5289123402013484, acc0.7318489835430784\n",
      "cm[[717 227]\n",
      " [ 50  39]]\n"
     ]
    },
    {
     "name": "stderr",
     "output_type": "stream",
     "text": [
      "100%|██████████| 207/207 [02:02<00:00,  1.69it/s]\n",
      "100%|██████████| 52/52 [00:24<00:00,  2.12it/s]\n"
     ]
    },
    {
     "name": "stdout",
     "output_type": "stream",
     "text": [
      "Epoch 4, Train Loss: 0.02299213626507472, Val Loss: 0.02663431130349636, F1 Score: 0.475928407047961, acc0.611810261374637\n",
      "cm[[579 365]\n",
      " [ 36  53]]\n"
     ]
    },
    {
     "name": "stderr",
     "output_type": "stream",
     "text": [
      "100%|██████████| 207/207 [01:59<00:00,  1.73it/s]\n",
      "100%|██████████| 52/52 [00:24<00:00,  2.12it/s]\n"
     ]
    },
    {
     "name": "stdout",
     "output_type": "stream",
     "text": [
      "Epoch 5, Train Loss: 0.01824729463899877, Val Loss: 0.027542106001279675, F1 Score: 0.4455091908933603, acc0.5411423039690223\n",
      "cm[[494 450]\n",
      " [ 24  65]]\n"
     ]
    },
    {
     "name": "stderr",
     "output_type": "stream",
     "text": [
      "100%|██████████| 207/207 [01:59<00:00,  1.74it/s]\n",
      "100%|██████████| 52/52 [00:24<00:00,  2.12it/s]\n"
     ]
    },
    {
     "name": "stdout",
     "output_type": "stream",
     "text": [
      "Epoch 6, Train Loss: 0.016239147320623704, Val Loss: 0.033476044271642774, F1 Score: 0.5033199010898434, acc0.7153920619554696\n",
      "cm[[707 237]\n",
      " [ 57  32]]\n"
     ]
    },
    {
     "name": "stderr",
     "output_type": "stream",
     "text": [
      "100%|██████████| 207/207 [01:59<00:00,  1.73it/s]\n",
      "100%|██████████| 52/52 [00:24<00:00,  2.09it/s]\n"
     ]
    },
    {
     "name": "stdout",
     "output_type": "stream",
     "text": [
      "Epoch 7, Train Loss: 0.012178098898468728, Val Loss: 0.04363625258198366, F1 Score: 0.626856023878781, acc0.8712487899322362\n",
      "cm[[868  76]\n",
      " [ 57  32]]\n"
     ]
    },
    {
     "name": "stderr",
     "output_type": "stream",
     "text": [
      "100%|██████████| 207/207 [02:05<00:00,  1.65it/s]\n",
      "100%|██████████| 52/52 [00:25<00:00,  2.02it/s]\n"
     ]
    },
    {
     "name": "stdout",
     "output_type": "stream",
     "text": [
      "Epoch 8, Train Loss: 0.008745877838053556, Val Loss: 0.03365429485431658, F1 Score: 0.5078269224899102, acc0.6524685382381413\n",
      "cm[[617 327]\n",
      " [ 32  57]]\n"
     ]
    },
    {
     "name": "stderr",
     "output_type": "stream",
     "text": [
      "100%|██████████| 207/207 [02:03<00:00,  1.67it/s]\n",
      "100%|██████████| 52/52 [00:25<00:00,  2.05it/s]\n"
     ]
    },
    {
     "name": "stdout",
     "output_type": "stream",
     "text": [
      "Epoch 9, Train Loss: 0.007932072662824882, Val Loss: 0.0462052882469904, F1 Score: 0.5946524675621665, acc0.8538238141335914\n",
      "cm[[854  90]\n",
      " [ 61  28]]\n"
     ]
    },
    {
     "name": "stderr",
     "output_type": "stream",
     "text": [
      "100%|██████████| 207/207 [02:02<00:00,  1.69it/s]\n",
      "100%|██████████| 52/52 [00:25<00:00,  2.05it/s]\n"
     ]
    },
    {
     "name": "stdout",
     "output_type": "stream",
     "text": [
      "Epoch 10, Train Loss: 0.005110321992615706, Val Loss: 0.054739547678484365, F1 Score: 0.6526833053148843, acc0.8867376573088093\n",
      "cm[[882  62]\n",
      " [ 55  34]]\n"
     ]
    },
    {
     "name": "stderr",
     "output_type": "stream",
     "text": [
      "100%|██████████| 207/207 [02:02<00:00,  1.70it/s]\n",
      "100%|██████████| 52/52 [00:24<00:00,  2.09it/s]\n"
     ]
    },
    {
     "name": "stdout",
     "output_type": "stream",
     "text": [
      "Epoch 11, Train Loss: 0.004324814988930646, Val Loss: 0.07521492628494833, F1 Score: 0.6490500386405976, acc0.9119070667957405\n",
      "cm[[918  26]\n",
      " [ 65  24]]\n"
     ]
    },
    {
     "name": "stderr",
     "output_type": "stream",
     "text": [
      "100%|██████████| 207/207 [02:01<00:00,  1.71it/s]\n",
      "100%|██████████| 52/52 [00:26<00:00,  1.99it/s]\n"
     ]
    },
    {
     "name": "stdout",
     "output_type": "stream",
     "text": [
      "Epoch 12, Train Loss: 0.0030398887580998495, Val Loss: 0.08233405443836371, F1 Score: 0.6617590784464564, acc0.9196515004840271\n",
      "cm[[926  18]\n",
      " [ 65  24]]\n"
     ]
    },
    {
     "name": "stderr",
     "output_type": "stream",
     "text": [
      "100%|██████████| 207/207 [02:02<00:00,  1.69it/s]\n",
      "100%|██████████| 52/52 [00:25<00:00,  2.08it/s]\n"
     ]
    },
    {
     "name": "stdout",
     "output_type": "stream",
     "text": [
      "Epoch 13, Train Loss: 0.0012145848419437982, Val Loss: 0.09506221996623655, F1 Score: 0.6776883896647102, acc0.9283639883833494\n",
      "cm[[935   9]\n",
      " [ 65  24]]\n"
     ]
    },
    {
     "name": "stderr",
     "output_type": "stream",
     "text": [
      "100%|██████████| 207/207 [02:00<00:00,  1.71it/s]\n",
      "100%|██████████| 52/52 [00:25<00:00,  2.04it/s]\n"
     ]
    },
    {
     "name": "stdout",
     "output_type": "stream",
     "text": [
      "Epoch 14, Train Loss: 0.000952291151615526, Val Loss: 0.08395190943282124, F1 Score: 0.6435636006094861, acc0.8906098741529526\n",
      "cm[[890  54]\n",
      " [ 59  30]]\n"
     ]
    },
    {
     "name": "stderr",
     "output_type": "stream",
     "text": [
      "100%|██████████| 207/207 [02:00<00:00,  1.71it/s]\n",
      "100%|██████████| 52/52 [00:25<00:00,  2.03it/s]\n"
     ]
    },
    {
     "name": "stdout",
     "output_type": "stream",
     "text": [
      "Epoch 15, Train Loss: 0.0006910983879892237, Val Loss: 0.12805334890684278, F1 Score: 0.658458914836599, acc0.9264278799612778\n",
      "cm[[936   8]\n",
      " [ 68  21]]\n"
     ]
    },
    {
     "name": "stderr",
     "output_type": "stream",
     "text": [
      "100%|██████████| 207/207 [02:03<00:00,  1.68it/s]\n",
      "100%|██████████| 52/52 [00:24<00:00,  2.09it/s]\n"
     ]
    },
    {
     "name": "stdout",
     "output_type": "stream",
     "text": [
      "Epoch 16, Train Loss: 0.0008814320723380977, Val Loss: 0.09564527463659872, F1 Score: 0.6814135763737491, acc0.9157792836398838\n",
      "cm[[916  28]\n",
      " [ 59  30]]\n"
     ]
    },
    {
     "name": "stderr",
     "output_type": "stream",
     "text": [
      "100%|██████████| 207/207 [02:00<00:00,  1.72it/s]\n",
      "100%|██████████| 52/52 [00:25<00:00,  2.04it/s]\n"
     ]
    },
    {
     "name": "stdout",
     "output_type": "stream",
     "text": [
      "Epoch 17, Train Loss: 0.0004097975743783589, Val Loss: 0.0903064547939301, F1 Score: 0.6864810960804717, acc0.9186834462729913\n",
      "cm[[919  25]\n",
      " [ 59  30]]\n"
     ]
    },
    {
     "name": "stderr",
     "output_type": "stream",
     "text": [
      "100%|██████████| 207/207 [02:03<00:00,  1.68it/s]\n",
      "100%|██████████| 52/52 [00:24<00:00,  2.10it/s]\n"
     ]
    },
    {
     "name": "stdout",
     "output_type": "stream",
     "text": [
      "Epoch 18, Train Loss: 0.003840247315584321, Val Loss: 0.04714583194268366, F1 Score: 0.6196680151886156, acc0.8393030009680542\n",
      "cm[[826 118]\n",
      " [ 48  41]]\n"
     ]
    },
    {
     "name": "stderr",
     "output_type": "stream",
     "text": [
      "100%|██████████| 207/207 [02:02<00:00,  1.69it/s]\n",
      "100%|██████████| 52/52 [00:25<00:00,  2.04it/s]\n"
     ]
    },
    {
     "name": "stdout",
     "output_type": "stream",
     "text": [
      "Epoch 19, Train Loss: 0.004431289185352701, Val Loss: 0.05016568490715984, F1 Score: 0.6446841776110068, acc0.850919651500484\n",
      "cm[[833 111]\n",
      " [ 43  46]]\n"
     ]
    },
    {
     "name": "stderr",
     "output_type": "stream",
     "text": [
      "100%|██████████| 207/207 [02:02<00:00,  1.69it/s]\n",
      "100%|██████████| 52/52 [00:25<00:00,  2.03it/s]\n"
     ]
    },
    {
     "name": "stdout",
     "output_type": "stream",
     "text": [
      "Epoch 20, Train Loss: 0.0016429538080723397, Val Loss: 0.08024275188066755, F1 Score: 0.6671768022553363, acc0.9070667957405615\n",
      "cm[[907  37]\n",
      " [ 59  30]]\n"
     ]
    },
    {
     "name": "stderr",
     "output_type": "stream",
     "text": [
      "100%|██████████| 207/207 [02:02<00:00,  1.68it/s]\n",
      "100%|██████████| 52/52 [00:25<00:00,  2.04it/s]\n"
     ]
    },
    {
     "name": "stdout",
     "output_type": "stream",
     "text": [
      "Epoch 21, Train Loss: 0.0004653223137949312, Val Loss: 0.0951436415468309, F1 Score: 0.6876159684603121, acc0.9215876089060987\n",
      "cm[[923  21]\n",
      " [ 60  29]]\n"
     ]
    },
    {
     "name": "stderr",
     "output_type": "stream",
     "text": [
      "100%|██████████| 207/207 [02:00<00:00,  1.72it/s]\n",
      "100%|██████████| 52/52 [00:24<00:00,  2.08it/s]\n"
     ]
    },
    {
     "name": "stdout",
     "output_type": "stream",
     "text": [
      "Epoch 22, Train Loss: 0.000345994910382751, Val Loss: 0.09380454107122205, F1 Score: 0.7011793502447707, acc0.9244917715392061\n",
      "cm[[924  20]\n",
      " [ 58  31]]\n"
     ]
    },
    {
     "name": "stderr",
     "output_type": "stream",
     "text": [
      "100%|██████████| 207/207 [01:57<00:00,  1.76it/s]\n",
      "100%|██████████| 52/52 [00:24<00:00,  2.14it/s]\n"
     ]
    },
    {
     "name": "stdout",
     "output_type": "stream",
     "text": [
      "Epoch 23, Train Loss: 0.0001873779740754109, Val Loss: 0.12394409796371082, F1 Score: 0.6703730976926854, acc0.9244917715392061\n",
      "cm[[931  13]\n",
      " [ 65  24]]\n"
     ]
    },
    {
     "name": "stderr",
     "output_type": "stream",
     "text": [
      "100%|██████████| 207/207 [01:59<00:00,  1.74it/s]\n",
      "100%|██████████| 52/52 [00:24<00:00,  2.14it/s]\n"
     ]
    },
    {
     "name": "stdout",
     "output_type": "stream",
     "text": [
      "Epoch 24, Train Loss: 0.00011759810449539277, Val Loss: 0.11980288823944928, F1 Score: 0.6853845435385558, acc0.9273959341723137\n",
      "cm[[932  12]\n",
      " [ 63  26]]\n"
     ]
    },
    {
     "name": "stderr",
     "output_type": "stream",
     "text": [
      "100%|██████████| 207/207 [02:00<00:00,  1.72it/s]\n",
      "100%|██████████| 52/52 [00:24<00:00,  2.14it/s]\n"
     ]
    },
    {
     "name": "stdout",
     "output_type": "stream",
     "text": [
      "Epoch 25, Train Loss: 0.0001841326035993415, Val Loss: 0.1105632557714321, F1 Score: 0.70280223257955, acc0.9273959341723137\n",
      "cm[[928  16]\n",
      " [ 59  30]]\n"
     ]
    },
    {
     "name": "stderr",
     "output_type": "stream",
     "text": [
      "100%|██████████| 207/207 [02:00<00:00,  1.71it/s]\n",
      "100%|██████████| 52/52 [00:24<00:00,  2.14it/s]\n"
     ]
    },
    {
     "name": "stdout",
     "output_type": "stream",
     "text": [
      "Epoch 26, Train Loss: 5.2750469264256774e-05, Val Loss: 0.11824864940759792, F1 Score: 0.6982106910310437, acc0.9293320425943853\n",
      "cm[[932  12]\n",
      " [ 61  28]]\n"
     ]
    },
    {
     "name": "stderr",
     "output_type": "stream",
     "text": [
      "100%|██████████| 207/207 [01:58<00:00,  1.75it/s]\n",
      "100%|██████████| 52/52 [00:25<00:00,  2.07it/s]\n"
     ]
    },
    {
     "name": "stdout",
     "output_type": "stream",
     "text": [
      "Epoch 27, Train Loss: 0.00011631491728251599, Val Loss: 0.12421574820956056, F1 Score: 0.7005656356742189, acc0.9283639883833494\n",
      "cm[[930  14]\n",
      " [ 60  29]]\n"
     ]
    },
    {
     "name": "stderr",
     "output_type": "stream",
     "text": [
      "100%|██████████| 207/207 [01:58<00:00,  1.75it/s]\n",
      "100%|██████████| 52/52 [00:25<00:00,  2.08it/s]\n"
     ]
    },
    {
     "name": "stdout",
     "output_type": "stream",
     "text": [
      "Epoch 28, Train Loss: 0.0071934544689528975, Val Loss: 0.05613996601179959, F1 Score: 0.6323489803770681, acc0.856727976766699\n",
      "cm[[846  98]\n",
      " [ 50  39]]\n"
     ]
    },
    {
     "name": "stderr",
     "output_type": "stream",
     "text": [
      "100%|██████████| 207/207 [01:59<00:00,  1.73it/s]\n",
      "100%|██████████| 52/52 [00:24<00:00,  2.08it/s]\n"
     ]
    },
    {
     "name": "stdout",
     "output_type": "stream",
     "text": [
      "Epoch 29, Train Loss: 0.001543463911901568, Val Loss: 0.06006615054838431, F1 Score: 0.6455411198435679, acc0.8586640851887706\n",
      "cm[[844 100]\n",
      " [ 46  43]]\n"
     ]
    },
    {
     "name": "stderr",
     "output_type": "stream",
     "text": [
      "100%|██████████| 207/207 [02:01<00:00,  1.71it/s]\n",
      "100%|██████████| 52/52 [00:25<00:00,  2.03it/s]\n"
     ]
    },
    {
     "name": "stdout",
     "output_type": "stream",
     "text": [
      "Epoch 30, Train Loss: 0.0006537542489381475, Val Loss: 0.08767861425216185, F1 Score: 0.6875378100423473, acc0.914811229428848\n",
      "cm[[913  31]\n",
      " [ 57  32]]\n"
     ]
    },
    {
     "name": "stderr",
     "output_type": "stream",
     "text": [
      " 17%|█▋        | 35/207 [00:21<01:30,  1.90it/s]"
     ]
    }
   ],
   "source": [
    "model = train(model, train_dataloader, val_dataloader, criterion, optimizer, num_epochs=num_epochs, save=True, device=device, backbone=f'{BACKBONE}_{num_classes}class_{LABEL}')"
   ]
  },
  {
   "cell_type": "markdown",
   "id": "fad2f69b",
   "metadata": {},
   "source": [
    "### Test"
   ]
  },
  {
   "cell_type": "code",
   "execution_count": null,
   "id": "4f689e55",
   "metadata": {},
   "outputs": [],
   "source": [
    "test(model, test_dataloader, saliency=True, device=device)"
   ]
  },
  {
   "cell_type": "code",
   "execution_count": null,
   "id": "6b71de66",
   "metadata": {},
   "outputs": [],
   "source": [
    "# Good quality images\n",
    "adequate_df = df_test[df_test['final_quality'] == 'yes']\n",
    "\n",
    "# Bad quality images\n",
    "inadequate_df = df_test[df_test['final_quality'] == 'no']\n",
    "\n",
    "adequate_dataset = BRSETDataset(\n",
    "    adequate_df, \n",
    "    IMAGE_COL, \n",
    "    IMAGES, \n",
    "    LABEL, \n",
    "    mlb, \n",
    "    train_columns, \n",
    "    transform=test_transform\n",
    ")\n",
    "\n",
    "inadequate_dataset = BRSETDataset(\n",
    "    inadequate_df, \n",
    "    IMAGE_COL, \n",
    "    IMAGES, \n",
    "    LABEL, \n",
    "    mlb, \n",
    "    train_columns, \n",
    "    transform=test_transform\n",
    ")\n",
    "\n",
    "adequate_dataloader = DataLoader(adequate_dataset, batch_size=BATCH_SIZE, shuffle=False, num_workers=NUM_WORKERS, pin_memory=True)\n",
    "inadequate_dataloader = DataLoader(inadequate_dataset, batch_size=BATCH_SIZE, shuffle=False, num_workers=NUM_WORKERS, pin_memory=True)"
   ]
  },
  {
   "cell_type": "markdown",
   "id": "894ae4f8",
   "metadata": {},
   "source": [
    "#### Adequate image quality"
   ]
  },
  {
   "cell_type": "code",
   "execution_count": null,
   "id": "a5b908e3",
   "metadata": {},
   "outputs": [],
   "source": [
    "test(model, adequate_dataloader, saliency=True, device=device, save=True)"
   ]
  },
  {
   "cell_type": "markdown",
   "id": "fa373d24",
   "metadata": {},
   "source": [
    "#### Inadequate image quality"
   ]
  },
  {
   "cell_type": "code",
   "execution_count": null,
   "id": "c36ddc09",
   "metadata": {},
   "outputs": [],
   "source": [
    "test(model, inadequate_dataloader, saliency=True, device=device)"
   ]
  },
  {
   "cell_type": "code",
   "execution_count": null,
   "id": "bcbcf3a7",
   "metadata": {},
   "outputs": [],
   "source": []
  }
 ],
 "metadata": {
  "kernelspec": {
   "display_name": "Python 3 (ipykernel)",
   "language": "python",
   "name": "python3"
  },
  "language_info": {
   "codemirror_mode": {
    "name": "ipython",
    "version": 3
   },
   "file_extension": ".py",
   "mimetype": "text/x-python",
   "name": "python",
   "nbconvert_exporter": "python",
   "pygments_lexer": "ipython3",
   "version": "3.9.7"
  }
 },
 "nbformat": 4,
 "nbformat_minor": 5
}
