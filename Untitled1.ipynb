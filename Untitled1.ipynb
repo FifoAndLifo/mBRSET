{
 "cells": [
  {
   "cell_type": "code",
   "execution_count": 8,
   "id": "9ea33a04-e555-4966-ace2-1cb18e9fb79b",
   "metadata": {
    "scrolled": true
   },
   "outputs": [
    {
     "ename": "NameError",
     "evalue": "name 'DataLoader' is not defined",
     "output_type": "error",
     "traceback": [
      "\u001b[0;31m---------------------------------------------------------------------------\u001b[0m",
      "\u001b[0;31mNameError\u001b[0m                                 Traceback (most recent call last)",
      "Cell \u001b[0;32mIn[8], line 19\u001b[0m\n\u001b[1;32m     16\u001b[0m TEST_SIZE \u001b[38;5;241m=\u001b[39m \u001b[38;5;241m0.3\u001b[39m\n\u001b[1;32m     17\u001b[0m UNDERSAMPLE \u001b[38;5;241m=\u001b[39m \u001b[38;5;28;01mFalse\u001b[39;00m\n\u001b[0;32m---> 19\u001b[0m train_dataloader \u001b[38;5;241m=\u001b[39m \u001b[43mDataLoader\u001b[49m(train_dataset, batch_size\u001b[38;5;241m=\u001b[39mBATCH_SIZE, shuffle\u001b[38;5;241m=\u001b[39m\u001b[38;5;28;01mTrue\u001b[39;00m, num_workers\u001b[38;5;241m=\u001b[39mNUM_WORKERS, pin_memory\u001b[38;5;241m=\u001b[39m\u001b[38;5;28;01mTrue\u001b[39;00m)\n\u001b[1;32m     20\u001b[0m test_dataloader \u001b[38;5;241m=\u001b[39m DataLoader(test_dataset, batch_size\u001b[38;5;241m=\u001b[39mBATCH_SIZE, shuffle\u001b[38;5;241m=\u001b[39m\u001b[38;5;28;01mFalse\u001b[39;00m, num_workers\u001b[38;5;241m=\u001b[39mNUM_WORKERS, pin_memory\u001b[38;5;241m=\u001b[39m\u001b[38;5;28;01mTrue\u001b[39;00m)\n\u001b[1;32m     22\u001b[0m LABELS_PATH \u001b[38;5;241m=\u001b[39m os\u001b[38;5;241m.\u001b[39mpath\u001b[38;5;241m.\u001b[39mjoin(DATASET, \u001b[38;5;124m'\u001b[39m\u001b[38;5;124mlabels.csv\u001b[39m\u001b[38;5;124m'\u001b[39m)\n",
      "\u001b[0;31mNameError\u001b[0m: name 'DataLoader' is not defined"
     ]
    }
   ],
   "source": [
    "from src.data_analysis import show_random_images, show_missing, plot_categorical_columns, plot_continuous, get_image_statistics_df, plot_image_statistics, calculate_normalization_values\n",
    "from src.get_dataset import get_dataset\n",
    "from ydata_profiling import ProfileReport\n",
    "\n",
    "import os\n",
    "import pandas as pd\n",
    "\n",
    "from src.train import train\n",
    "from src.test import test"
   ]
  },
  {
   "cell_type": "code",
   "execution_count": 11,
   "id": "fe48f824-29ca-4e24-83d0-513c3996d3c5",
   "metadata": {},
   "outputs": [
    {
     "name": "stdout",
     "output_type": "stream",
     "text": [
      "loading csv file in data//labels.csv\n",
      "Number of Rows: 5164\n",
      "Number of Columns: 24\n",
      "Column Names: patient, age, sex, dm_time, insulin, insulin_time, oraltreatment_dm, systemic_hypertension, insurance, educational_level, alcohol_consumption, smoking, obesity, vascular_disease, acute_myocardial_infarction, nephropathy, neuropathy, diabetic_foot, file, laterality, final_artifacts, final_quality, final_icdr, final_edema\n",
      "\n",
      "Info:\n",
      "<class 'pandas.core.frame.DataFrame'>\n",
      "RangeIndex: 5164 entries, 0 to 5163\n",
      "Data columns (total 24 columns):\n",
      " #   Column                       Non-Null Count  Dtype  \n",
      "---  ------                       --------------  -----  \n",
      " 0   patient                      5164 non-null   int64  \n",
      " 1   age                          5164 non-null   object \n",
      " 2   sex                          5164 non-null   int64  \n",
      " 3   dm_time                      5108 non-null   float64\n",
      " 4   insulin                      5116 non-null   float64\n",
      " 5   insulin_time                 1016 non-null   float64\n",
      " 6   oraltreatment_dm             5120 non-null   float64\n",
      " 7   systemic_hypertension        5120 non-null   float64\n",
      " 8   insurance                    5116 non-null   float64\n",
      " 9   educational_level            5112 non-null   float64\n",
      " 10  alcohol_consumption          5088 non-null   float64\n",
      " 11  smoking                      5076 non-null   float64\n",
      " 12  obesity                      5088 non-null   float64\n",
      " 13  vascular_disease             5088 non-null   float64\n",
      " 14  acute_myocardial_infarction  5080 non-null   float64\n",
      " 15  nephropathy                  5084 non-null   float64\n",
      " 16  neuropathy                   5088 non-null   float64\n",
      " 17  diabetic_foot                5056 non-null   float64\n",
      " 18  file                         5164 non-null   object \n",
      " 19  laterality                   5164 non-null   object \n",
      " 20  final_artifacts              5164 non-null   object \n",
      " 21  final_quality                5164 non-null   object \n",
      " 22  final_icdr                   4884 non-null   float64\n",
      " 23  final_edema                  4899 non-null   object \n",
      "dtypes: float64(16), int64(2), object(6)\n",
      "memory usage: 968.4+ KB\n",
      "None\n"
     ]
    }
   ],
   "source": [
    "mBRSETD = '/opc/davidres/retina/mbrset/data'\n",
    "DOWNLOAD = False\n",
    "SHAPE = (224, 224)\n",
    "IMAGES = os.path.join(DATASET, 'mBRSET/')\n",
    "LABEL = 'final_icdr'\n",
    "TEST_SIZE = 0.3\n",
    "UNDERSAMPLE = False\n",
    "\n",
    "LABELS_PATH = os.path.join(DATASET, 'labels.csv')\n",
    "IMAGE_COL = 'file'\n",
    "\n",
    "df = get_dataset(DATASET, download=DOWNLOAD, info=False)\n",
    "df = df[df['file'] != '985.1.jpg']z"
   ]
  },
  {
   "cell_type": "markdown",
   "id": "d9fd03a4-2593-4a9e-9a24-162180ddd1b5",
   "metadata": {},
   "source": [
    "# Convert into 3 classes:\n",
    "\n",
    "# Normal = 0; Non-proliferative = 1, 2, 3; Proliferative = 4\n",
    "# Map values to categories\n",
    "df[LABEL] = df[LABEL].apply(lambda x: 'Normal' if x == 0 else ('Non-proliferative' if x in [1, 2, 3] else 'Proliferative'))\n",
    "\n",
    "# Split dataset into train, test and validation:\n",
    "df_train, df_test = split_data(df, LABEL, TEST_SIZE, undersample=False)\n",
    "print('Getting validation set...')\n",
    "df_test, df_val = split_data(df_test, LABEL, 0.20)"
   ]
  },
  {
   "cell_type": "code",
   "execution_count": null,
   "id": "d5626ef8-fc50-41e7-b264-f6e5882a3f87",
   "metadata": {},
   "outputs": [],
   "source": [
    "# Train the one hot encoder on the train set and get the labels for the test and validation sets:\n",
    "train_labels, mlb, train_columns = process_labels(df_train, col=LABEL)"
   ]
  },
  {
   "cell_type": "code",
   "execution_count": 12,
   "id": "ddb79c14-2cdf-4dd6-bf8a-6499072eee95",
   "metadata": {},
   "outputs": [
    {
     "ename": "NameError",
     "evalue": "name 'df_train' is not defined",
     "output_type": "error",
     "traceback": [
      "\u001b[0;31m---------------------------------------------------------------------------\u001b[0m",
      "\u001b[0;31mNameError\u001b[0m                                 Traceback (most recent call last)",
      "Cell \u001b[0;32mIn[12], line 2\u001b[0m\n\u001b[1;32m      1\u001b[0m train_dataset \u001b[38;5;241m=\u001b[39m mBRSETDataset(\n\u001b[0;32m----> 2\u001b[0m     \u001b[43mdf_train\u001b[49m, \n\u001b[1;32m      3\u001b[0m     IMAGE_COL, \n\u001b[1;32m      4\u001b[0m     IMAGES, \n\u001b[1;32m      5\u001b[0m     LABEL, \n\u001b[1;32m      6\u001b[0m     mlb, \n\u001b[1;32m      7\u001b[0m     train_columns, \n\u001b[1;32m      8\u001b[0m     transform\u001b[38;5;241m=\u001b[39mtrain_transforms\n\u001b[1;32m      9\u001b[0m )\n\u001b[1;32m     11\u001b[0m test_dataset \u001b[38;5;241m=\u001b[39m mBRSETDataset(\n\u001b[1;32m     12\u001b[0m     df_test, \n\u001b[1;32m     13\u001b[0m     IMAGE_COL, \n\u001b[0;32m   (...)\u001b[0m\n\u001b[1;32m     18\u001b[0m     transform\u001b[38;5;241m=\u001b[39mtest_transform\n\u001b[1;32m     19\u001b[0m )\n\u001b[1;32m     21\u001b[0m val_dataset \u001b[38;5;241m=\u001b[39m mBRSETDataset(\n\u001b[1;32m     22\u001b[0m     df_val, \n\u001b[1;32m     23\u001b[0m     IMAGE_COL, \n\u001b[0;32m   (...)\u001b[0m\n\u001b[1;32m     28\u001b[0m     transform\u001b[38;5;241m=\u001b[39mtest_transform\n\u001b[1;32m     29\u001b[0m )\n",
      "\u001b[0;31mNameError\u001b[0m: name 'df_train' is not defined"
     ]
    }
   ],
   "source": [
    "train_dataset = mBRSETDataset(\n",
    "    df_train, \n",
    "    IMAGE_COL, \n",
    "    IMAGES, \n",
    "    LABEL, \n",
    "    mlb, \n",
    "    train_columns, \n",
    "    transform=train_transforms\n",
    ")\n",
    "\n",
    "test_dataset = mBRSETDataset(\n",
    "    df_test, \n",
    "    IMAGE_COL, \n",
    "    IMAGES, \n",
    "    LABEL, \n",
    "    mlb, \n",
    "    train_columns, \n",
    "    transform=test_transform\n",
    ")\n",
    "\n",
    "val_dataset = BRSETDataset(\n",
    "    df_val, \n",
    "    IMAGE_COL, \n",
    "    IMAGES, \n",
    "    LABEL, \n",
    "    mlb, \n",
    "    train_columns, \n",
    "    transform=test_transform\n",
    ")\n",
    "\n",
    "train_dataloader = DataLoader(train_dataset, batch_size=BATCH_SIZE, shuffle=True, num_workers=NUM_WORKERS, pin_memory=True)\n",
    "test_dataloader = DataLoader(test_dataset, batch_size=BATCH_SIZE, shuffle=False, num_workers=NUM_WORKERS, pin_memory=True)\n",
    "val_dataloader = DataLoader(val_dataset, batch_size=BATCH_SIZE, shuffle=False, num_workers=NUM_WORKERS, pin_memory=True)"
   ]
  },
  {
   "cell_type": "code",
   "execution_count": 7,
   "id": "7a97ee05-dbe6-43bf-9bf7-ad78597ea719",
   "metadata": {},
   "outputs": [
    {
     "ename": "NameError",
     "evalue": "name 'train_dataloader' is not defined",
     "output_type": "error",
     "traceback": [
      "\u001b[0;31m---------------------------------------------------------------------------\u001b[0m",
      "\u001b[0;31mNameError\u001b[0m                                 Traceback (most recent call last)",
      "Cell \u001b[0;32mIn[7], line 1\u001b[0m\n\u001b[0;32m----> 1\u001b[0m \u001b[38;5;28;01mfor\u001b[39;00m batch \u001b[38;5;129;01min\u001b[39;00m \u001b[43mtrain_dataloader\u001b[49m:\n\u001b[1;32m      3\u001b[0m     images, labels \u001b[38;5;241m=\u001b[39m batch[\u001b[38;5;124m'\u001b[39m\u001b[38;5;124mimage\u001b[39m\u001b[38;5;124m'\u001b[39m], batch[\u001b[38;5;124m'\u001b[39m\u001b[38;5;124mlabels\u001b[39m\u001b[38;5;124m'\u001b[39m]\n\u001b[1;32m      4\u001b[0m     \u001b[38;5;28;01mfor\u001b[39;00m i \u001b[38;5;129;01min\u001b[39;00m images:\n",
      "\u001b[0;31mNameError\u001b[0m: name 'train_dataloader' is not defined"
     ]
    }
   ],
   "source": [
    "for batch in train_dataloader:\n",
    "\n",
    "    images, labels = batch['image'], batch['labels']\n",
    "    for i in images:\n",
    "        plt.imshow(i)"
   ]
  },
  {
   "cell_type": "code",
   "execution_count": null,
   "id": "ca553253-fb3b-400d-996a-9207e562b673",
   "metadata": {},
   "outputs": [],
   "source": []
  }
 ],
 "metadata": {
  "kernelspec": {
   "display_name": "Python 3 (ipykernel)",
   "language": "python",
   "name": "python3"
  },
  "language_info": {
   "codemirror_mode": {
    "name": "ipython",
    "version": 3
   },
   "file_extension": ".py",
   "mimetype": "text/x-python",
   "name": "python",
   "nbconvert_exporter": "python",
   "pygments_lexer": "ipython3",
   "version": "3.12.4"
  }
 },
 "nbformat": 4,
 "nbformat_minor": 5
}
