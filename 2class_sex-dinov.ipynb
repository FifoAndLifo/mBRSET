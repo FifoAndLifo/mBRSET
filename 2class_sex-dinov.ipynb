{
 "cells": [
  {
   "cell_type": "markdown",
   "id": "67caa755",
   "metadata": {},
   "source": [
    "### Setup Environment:"
   ]
  },
  {
   "cell_type": "code",
   "execution_count": 1,
   "id": "ff7164ae",
   "metadata": {},
   "outputs": [],
   "source": [
    "from src.get_dataset import get_dataset, split_data\n",
    "from src.data_loader import BRSETDataset, process_labels\n",
    "from src.model import FoundationalCVModel, FoundationalCVModelWithClassifier\n",
    "from sklearn.utils.class_weight import compute_class_weight\n",
    "from torch.utils.data import DataLoader\n",
    "import torch\n",
    "import torch.nn as nn\n",
    "import torch.optim as optim\n",
    "from torchvision import transforms\n",
    "import os\n",
    "import matplotlib.pyplot as plt\n",
    "import numpy as np\n",
    "\n",
    "# loss function and optimizer\n",
    "from src.FocalLoss import BinaryFocalLoss, FocalLoss\n",
    "\n",
    "# train and test functions\n",
    "from src.train import train\n",
    "from src.test import test"
   ]
  },
  {
   "cell_type": "code",
   "execution_count": 2,
   "id": "41c1eda4",
   "metadata": {},
   "outputs": [],
   "source": [
    "# Constants:\n",
    "DATASET = '/opc/davidres/retina/mbrset/data'\n",
    "DOWNLOAD = False\n",
    "SHAPE = (384, 384)\n",
    "IMAGES = os.path.join(DATASET, 'mBRSET/')\n",
    "LABEL = 'sex'\n",
    "TEST_SIZE = 0.3\n",
    "UNDERSAMPLE = False\n",
    "\n",
    "LABELS_PATH = os.path.join(DATASET, 'labels.csv')\n",
    "IMAGE_COL = 'file'\n",
    "\n",
    "\"\"\"\n",
    "Dataset Mean and Std:\n",
    "NORM_MEAN = [0.5896205017400412, 0.29888971649817453, 0.1107679405196557]\n",
    "NORM_STD = [0.28544273712830986, 0.15905456049750208, 0.07012281660980953]\n",
    "\n",
    "ImageNet Mean and Std:\n",
    "NORM_MEAN = [0.485, 0.456, 0.406]\n",
    "NORM_STD = [0.229, 0.224, 0.225]\n",
    "\"\"\"\n",
    "\n",
    "NORM_MEAN = [0.485, 0.456, 0.406]\n",
    "NORM_STD = [0.229, 0.224, 0.225]\n",
    "\n",
    "BACKBONE = 'dinov-large'\n",
    "MODE = 'fine_tune'\n",
    "backbone_mode = 'fine_tune'\n",
    "\n",
    "HIDDEN = [128]\n",
    "num_classes = 2\n",
    "\n",
    "BATCH_SIZE = 6\n",
    "NUM_WORKERS = 4\n",
    "\n",
    "LOSS = 'focal_loss'\n",
    "OPTIMIZER = 'adam'\n",
    "\n",
    "# Define your hyperparameters\n",
    "num_epochs = 50\n",
    "learning_rate = 1e-5\n",
    "\n",
    "device = torch.device('cuda' if torch.cuda.is_available() else 'cpu')"
   ]
  },
  {
   "cell_type": "markdown",
   "id": "986a7eab",
   "metadata": {},
   "source": [
    "#### Read csv file:"
   ]
  },
  {
   "cell_type": "code",
   "execution_count": 3,
   "id": "0487e2b5",
   "metadata": {},
   "outputs": [
    {
     "name": "stdout",
     "output_type": "stream",
     "text": [
      "loading csv file in /home/chenweiw/retina/mbrset/data/labels.csv\n"
     ]
    },
    {
     "data": {
      "text/html": [
       "<div>\n",
       "<style scoped>\n",
       "    .dataframe tbody tr th:only-of-type {\n",
       "        vertical-align: middle;\n",
       "    }\n",
       "\n",
       "    .dataframe tbody tr th {\n",
       "        vertical-align: top;\n",
       "    }\n",
       "\n",
       "    .dataframe thead th {\n",
       "        text-align: right;\n",
       "    }\n",
       "</style>\n",
       "<table border=\"1\" class=\"dataframe\">\n",
       "  <thead>\n",
       "    <tr style=\"text-align: right;\">\n",
       "      <th></th>\n",
       "      <th>patient</th>\n",
       "      <th>age</th>\n",
       "      <th>sex</th>\n",
       "      <th>dm_time</th>\n",
       "      <th>insulin</th>\n",
       "      <th>insulin_time</th>\n",
       "      <th>oraltreatment_dm</th>\n",
       "      <th>systemic_hypertension</th>\n",
       "      <th>insurance</th>\n",
       "      <th>educational_level</th>\n",
       "      <th>...</th>\n",
       "      <th>nephropathy</th>\n",
       "      <th>neuropathy</th>\n",
       "      <th>diabetic_foot</th>\n",
       "      <th>file</th>\n",
       "      <th>laterality</th>\n",
       "      <th>final_artifacts</th>\n",
       "      <th>final_quality</th>\n",
       "      <th>final_icdr</th>\n",
       "      <th>final_edema</th>\n",
       "      <th>normality</th>\n",
       "    </tr>\n",
       "  </thead>\n",
       "  <tbody>\n",
       "    <tr>\n",
       "      <th>0</th>\n",
       "      <td>1</td>\n",
       "      <td>58</td>\n",
       "      <td>1</td>\n",
       "      <td>15.0</td>\n",
       "      <td>1.0</td>\n",
       "      <td>NaN</td>\n",
       "      <td>1.0</td>\n",
       "      <td>1.0</td>\n",
       "      <td>0.0</td>\n",
       "      <td>3.0</td>\n",
       "      <td>...</td>\n",
       "      <td>1.0</td>\n",
       "      <td>0.0</td>\n",
       "      <td>0.0</td>\n",
       "      <td>1.1.jpg</td>\n",
       "      <td>right</td>\n",
       "      <td>yes</td>\n",
       "      <td>yes</td>\n",
       "      <td>4.0</td>\n",
       "      <td>no</td>\n",
       "      <td>abnormal</td>\n",
       "    </tr>\n",
       "    <tr>\n",
       "      <th>1</th>\n",
       "      <td>1</td>\n",
       "      <td>58</td>\n",
       "      <td>1</td>\n",
       "      <td>15.0</td>\n",
       "      <td>1.0</td>\n",
       "      <td>NaN</td>\n",
       "      <td>1.0</td>\n",
       "      <td>1.0</td>\n",
       "      <td>0.0</td>\n",
       "      <td>3.0</td>\n",
       "      <td>...</td>\n",
       "      <td>1.0</td>\n",
       "      <td>0.0</td>\n",
       "      <td>0.0</td>\n",
       "      <td>1.2.jpg</td>\n",
       "      <td>right</td>\n",
       "      <td>yes</td>\n",
       "      <td>yes</td>\n",
       "      <td>4.0</td>\n",
       "      <td>no</td>\n",
       "      <td>abnormal</td>\n",
       "    </tr>\n",
       "    <tr>\n",
       "      <th>2</th>\n",
       "      <td>1</td>\n",
       "      <td>58</td>\n",
       "      <td>1</td>\n",
       "      <td>15.0</td>\n",
       "      <td>1.0</td>\n",
       "      <td>NaN</td>\n",
       "      <td>1.0</td>\n",
       "      <td>1.0</td>\n",
       "      <td>0.0</td>\n",
       "      <td>3.0</td>\n",
       "      <td>...</td>\n",
       "      <td>1.0</td>\n",
       "      <td>0.0</td>\n",
       "      <td>0.0</td>\n",
       "      <td>1.3.jpg</td>\n",
       "      <td>left</td>\n",
       "      <td>yes</td>\n",
       "      <td>yes</td>\n",
       "      <td>4.0</td>\n",
       "      <td>no</td>\n",
       "      <td>abnormal</td>\n",
       "    </tr>\n",
       "    <tr>\n",
       "      <th>3</th>\n",
       "      <td>1</td>\n",
       "      <td>58</td>\n",
       "      <td>1</td>\n",
       "      <td>15.0</td>\n",
       "      <td>1.0</td>\n",
       "      <td>NaN</td>\n",
       "      <td>1.0</td>\n",
       "      <td>1.0</td>\n",
       "      <td>0.0</td>\n",
       "      <td>3.0</td>\n",
       "      <td>...</td>\n",
       "      <td>1.0</td>\n",
       "      <td>0.0</td>\n",
       "      <td>0.0</td>\n",
       "      <td>1.4.jpg</td>\n",
       "      <td>left</td>\n",
       "      <td>yes</td>\n",
       "      <td>yes</td>\n",
       "      <td>4.0</td>\n",
       "      <td>no</td>\n",
       "      <td>abnormal</td>\n",
       "    </tr>\n",
       "    <tr>\n",
       "      <th>4</th>\n",
       "      <td>10</td>\n",
       "      <td>63</td>\n",
       "      <td>0</td>\n",
       "      <td>7.0</td>\n",
       "      <td>0.0</td>\n",
       "      <td>NaN</td>\n",
       "      <td>1.0</td>\n",
       "      <td>1.0</td>\n",
       "      <td>0.0</td>\n",
       "      <td>2.0</td>\n",
       "      <td>...</td>\n",
       "      <td>0.0</td>\n",
       "      <td>0.0</td>\n",
       "      <td>0.0</td>\n",
       "      <td>10.1.jpg</td>\n",
       "      <td>right</td>\n",
       "      <td>yes</td>\n",
       "      <td>yes</td>\n",
       "      <td>0.0</td>\n",
       "      <td>no</td>\n",
       "      <td>abnormal</td>\n",
       "    </tr>\n",
       "  </tbody>\n",
       "</table>\n",
       "<p>5 rows × 25 columns</p>\n",
       "</div>"
      ],
      "text/plain": [
       "   patient  age  sex  dm_time  insulin  insulin_time  oraltreatment_dm  \\\n",
       "0        1   58    1     15.0      1.0           NaN               1.0   \n",
       "1        1   58    1     15.0      1.0           NaN               1.0   \n",
       "2        1   58    1     15.0      1.0           NaN               1.0   \n",
       "3        1   58    1     15.0      1.0           NaN               1.0   \n",
       "4       10   63    0      7.0      0.0           NaN               1.0   \n",
       "\n",
       "   systemic_hypertension  insurance  educational_level  ...  nephropathy  \\\n",
       "0                    1.0        0.0                3.0  ...          1.0   \n",
       "1                    1.0        0.0                3.0  ...          1.0   \n",
       "2                    1.0        0.0                3.0  ...          1.0   \n",
       "3                    1.0        0.0                3.0  ...          1.0   \n",
       "4                    1.0        0.0                2.0  ...          0.0   \n",
       "\n",
       "   neuropathy  diabetic_foot      file  laterality  final_artifacts  \\\n",
       "0         0.0            0.0   1.1.jpg       right              yes   \n",
       "1         0.0            0.0   1.2.jpg       right              yes   \n",
       "2         0.0            0.0   1.3.jpg        left              yes   \n",
       "3         0.0            0.0   1.4.jpg        left              yes   \n",
       "4         0.0            0.0  10.1.jpg       right              yes   \n",
       "\n",
       "   final_quality  final_icdr final_edema normality  \n",
       "0            yes         4.0          no  abnormal  \n",
       "1            yes         4.0          no  abnormal  \n",
       "2            yes         4.0          no  abnormal  \n",
       "3            yes         4.0          no  abnormal  \n",
       "4            yes         0.0          no  abnormal  \n",
       "\n",
       "[5 rows x 25 columns]"
      ]
     },
     "execution_count": 3,
     "metadata": {},
     "output_type": "execute_result"
    }
   ],
   "source": [
    "df = get_dataset(DATASET, download=DOWNLOAD, info=False)\n",
    "df = df[df['file'] != '985.1.jpg'] # this is missing\n",
    "df = df.dropna(subset=['sex'])\n",
    "df.head()"
   ]
  },
  {
   "cell_type": "code",
   "execution_count": 4,
   "id": "1c6b0fe3",
   "metadata": {},
   "outputs": [
    {
     "name": "stdout",
     "output_type": "stream",
     "text": [
      "0    3359\n",
      "1    1804\n",
      "Name: sex, dtype: int64\n"
     ]
    }
   ],
   "source": [
    "# Convert into 2 classes:\n",
    "\n",
    "# Normal = 0; Non-proliferative = 1, 2, 3; Proliferative = 4\n",
    "# for binary: 0: normal, 1-4: abnormal\n",
    "# Map values to categories\n",
    "df[LABEL] = df[LABEL].astype(int)\n",
    "\n",
    "df[LABEL] = df[LABEL].apply(lambda x: '1' if x == 1 else '0' )\n",
    "print(df[LABEL].value_counts())"
   ]
  },
  {
   "cell_type": "code",
   "execution_count": null,
   "id": "400d510b-e44a-4199-91e1-143ececfc0bb",
   "metadata": {},
   "outputs": [],
   "source": []
  },
  {
   "cell_type": "code",
   "execution_count": 5,
   "id": "d2830ec9",
   "metadata": {},
   "outputs": [
    {
     "name": "stdout",
     "output_type": "stream",
     "text": [
      "Train data shape: (3614, 25)\n",
      "Test data shape: (1549, 25)\n"
     ]
    },
    {
     "data": {
      "image/png": "[encoded data removed]",
      "text/plain": [
       "<Figure size 720x360 with 2 Axes>"
      ]
     },
     "metadata": {
      "needs_background": "light"
     },
     "output_type": "display_data"
    },
    {
     "name": "stdout",
     "output_type": "stream",
     "text": [
      "Getting validation set...\n"
     ]
    }
   ],
   "source": [
    "# Split dataset into train, test and validation:\n",
    "df_train, df_test = split_data(df, LABEL, TEST_SIZE, undersample=False)\n",
    "print('Getting validation set...')\n",
    "df_val = df_test"
   ]
  },
  {
   "cell_type": "markdown",
   "id": "93e7975b",
   "metadata": {},
   "source": [
    "### Dataloaders"
   ]
  },
  {
   "cell_type": "code",
   "execution_count": 6,
   "id": "33f243f6",
   "metadata": {},
   "outputs": [],
   "source": [
    "# Train the one hot encoder on the train set and get the labels for the test and validation sets:\n",
    "train_labels, mlb, train_columns = process_labels(df_train, col=LABEL)"
   ]
  },
  {
   "cell_type": "code",
   "execution_count": 7,
   "id": "fb38e445",
   "metadata": {},
   "outputs": [],
   "source": [
    "# Define the target image shape\n",
    "SHAPE = (384, 384)  # Adjust to your desired image size\n",
    "\n",
    "train_transforms = transforms.Compose([\n",
    "    transforms.Resize(SHAPE),\n",
    "    # transforms.RandomCrop(SHAPE),\n",
    "    transforms.ToTensor(),\n",
    "    # transforms.RandomHorizontalFlip(),  # Randomly flip the image horizontally\n",
    "    # transforms.RandomRotation(50),  # Randomly rotate the image by up to 10 degrees\n",
    "])\n",
    "\n",
    "if NORM_MEAN is not None and NORM_STD is not None:\n",
    "    train_transforms.transforms.append(transforms.Normalize(mean=NORM_MEAN, std=NORM_STD))\n",
    "\n",
    "test_transform = transforms.Compose([\n",
    "    transforms.Resize(SHAPE),\n",
    "    transforms.ToTensor(),\n",
    "])\n",
    "\n",
    "if NORM_MEAN is not None and NORM_STD is not None:\n",
    "    test_transform.transforms.append(transforms.Normalize(mean=NORM_MEAN, std=NORM_STD))\n"
   ]
  },
  {
   "cell_type": "code",
   "execution_count": 8,
   "id": "5aa0b4e3",
   "metadata": {},
   "outputs": [],
   "source": [
    "# Create the custom dataset\n",
    "train_dataset = BRSETDataset(\n",
    "    df_train, \n",
    "    IMAGE_COL, \n",
    "    IMAGES, \n",
    "    LABEL, \n",
    "    mlb, \n",
    "    train_columns, \n",
    "    transform=train_transforms\n",
    ")\n",
    "\n",
    "test_dataset = BRSETDataset(\n",
    "    df_test, \n",
    "    IMAGE_COL, \n",
    "    IMAGES, \n",
    "    LABEL, \n",
    "    mlb, \n",
    "    train_columns, \n",
    "    transform=test_transform\n",
    ")\n",
    "\n",
    "val_dataset = BRSETDataset(\n",
    "    df_val, \n",
    "    IMAGE_COL, \n",
    "    IMAGES, \n",
    "    LABEL, \n",
    "    mlb, \n",
    "    train_columns, \n",
    "    transform=test_transform\n",
    ")\n",
    "\n",
    "train_dataloader = DataLoader(train_dataset, batch_size=BATCH_SIZE, shuffle=True, num_workers=NUM_WORKERS, pin_memory=True)\n",
    "test_dataloader = DataLoader(test_dataset, batch_size=1, shuffle=False, num_workers=NUM_WORKERS, pin_memory=True)\n",
    "val_dataloader = DataLoader(val_dataset, batch_size=1, shuffle=False, num_workers=NUM_WORKERS, pin_memory=True)"
   ]
  },
  {
   "cell_type": "code",
   "execution_count": 9,
   "id": "edec00bf",
   "metadata": {},
   "outputs": [
    {
     "name": "stderr",
     "output_type": "stream",
     "text": [
      "Clipping input data to the valid range for imshow with RGB data ([0..1] for floats or [0..255] for integers).\n",
      "Clipping input data to the valid range for imshow with RGB data ([0..1] for floats or [0..255] for integers).\n",
      "Clipping input data to the valid range for imshow with RGB data ([0..1] for floats or [0..255] for integers).\n",
      "Clipping input data to the valid range for imshow with RGB data ([0..1] for floats or [0..255] for integers).\n",
      "Clipping input data to the valid range for imshow with RGB data ([0..1] for floats or [0..255] for integers).\n",
      "Clipping input data to the valid range for imshow with RGB data ([0..1] for floats or [0..255] for integers).\n"
     ]
    },
    {
     "data": {
      "image/png": "[encoded data removed]",
      "text/plain": [
       "<Figure size 432x288 with 6 Axes>"
      ]
     },
     "metadata": {
      "needs_background": "light"
     },
     "output_type": "display_data"
    }
   ],
   "source": [
    "# Print 6 samples with their labels\n",
    "# Iterate through the DataLoader and plot the images with labels\n",
    "for batch in train_dataloader:\n",
    "    images, labels = batch['image'], batch['labels']\n",
    "\n",
    "    for i in range(len(images)):\n",
    "        if i == 6:\n",
    "            break\n",
    "        plt.subplot(2, 3, i + 1)\n",
    "        plt.imshow(images[i].permute(1, 2, 0))  # Permute to (H, W, C) from (C, H, W)\n",
    "        plt.title(f\"Label: {labels[i]}\")\n",
    "        plt.axis('off')\n",
    "    plt.show()\n",
    "    break"
   ]
  },
  {
   "cell_type": "markdown",
   "id": "038f0fb7",
   "metadata": {},
   "source": [
    "### Model"
   ]
  },
  {
   "cell_type": "code",
   "execution_count": 10,
   "id": "8a652c24",
   "metadata": {},
   "outputs": [],
   "source": [
    "# Create a DataLoader to generate embeddings\n",
    "#model = get_retfound(weights='/scratch/liyues_root/liyues/chenweiw/retina_datasets/retfound_weigths/RETFound_cfp_weights.pth', num_classes=3)\n",
    "# Create a DataLoader to generate embeddings\n",
    "from transformers import ConvNextV2Model, ConvNextV2ForImageClassification\n",
    "import torch\n",
    "\n",
    "# Load the pre-trained ConvNeXt V2 model\n",
    "model_name = \"facebook/convnextv2-large-22k-384\"\n",
    "model = ConvNextV2ForImageClassification.from_pretrained(model_name)\n",
    "\n",
    "# Modify the classifier head according to the new number of classes\n",
    "model.classifier = torch.nn.Linear(model.classifier.in_features, num_classes)\n",
    "model.to(device)\n",
    "\n",
    "# Use DataParallel to parallelize the model across multiple GPUs\n",
    "if torch.cuda.device_count() > 1:\n",
    "    print(\"Using\", torch.cuda.device_count(), \"GPUs!\")\n",
    "    model = nn.DataParallel(model, [0,1])"
   ]
  },
  {
   "cell_type": "markdown",
   "id": "7dc7e0f3",
   "metadata": {},
   "source": [
    "### Training:"
   ]
  },
  {
   "cell_type": "code",
   "execution_count": 11,
   "id": "a49bc284",
   "metadata": {},
   "outputs": [
    {
     "name": "stdout",
     "output_type": "stream",
     "text": [
      "Class distribution: [2351 1263]\n"
     ]
    }
   ],
   "source": [
    "if LOSS == 'focal_loss':\n",
    "    class_distribution = train_dataloader.dataset.labels.sum(axis=0)\n",
    "    print(f'Class distribution: {class_distribution}')\n",
    "    class_dis = np.array(class_distribution)\n",
    "    class_weights =1-class_dis/np.sum(class_dis)\n",
    "    weights = torch.tensor(class_weights).to(device)\n",
    "    #criterion = FocalLoss()  # Focal Loss\n",
    "    criterion = FocalLoss(gamma=2, alpha=weights)\n",
    "else:\n",
    "    # Assuming train_loader.dataset.labels is a one-hot representation\n",
    "    class_indices = np.argmax(train_dataloader.dataset.labels, axis=1)\n",
    "\n",
    "    # Compute class weights using class indices\n",
    "    class_weights = compute_class_weight('balanced', classes=np.unique(class_indices), y=class_indices)\n",
    "    class_weights = torch.tensor(class_weights, dtype=torch.float32)\n",
    "    criterion = nn.CrossEntropyLoss(weight=class_weights).to(device)\n",
    "    #criterion = nn.BCEWithLogitsLoss() # Binary Cross-Entropy Loss\n",
    "\n",
    "if OPTIMIZER == 'adam':\n",
    "    optimizer = optim.Adam(model.parameters(), lr=learning_rate)\n",
    "elif OPTIMIZER == 'adamw':\n",
    "    optimizer = optim.AdamW(model.parameters(), lr=learning_rate)\n",
    "else:\n",
    "    optimizer = optim.SGD(model.parameters(), lr=learning_rate, momentum=0.9)"
   ]
  },
  {
   "cell_type": "code",
   "execution_count": null,
   "id": "264f3f1f",
   "metadata": {},
   "outputs": [
    {
     "name": "stderr",
     "output_type": "stream",
     "text": [
      "100%|██████████| 603/603 [02:33<00:00,  3.92it/s]\n",
      "100%|██████████| 1549/1549 [00:21<00:00, 73.01it/s]\n"
     ]
    },
    {
     "name": "stdout",
     "output_type": "stream",
     "text": [
      "Epoch 1, Train Loss: 0.07637715728252285, Val Loss: 0.06983848115437699, F1 Score: 0.5891781260633719, acc0.5894125242091672\n",
      "cm[[438 570]\n",
      " [ 66 475]]\n"
     ]
    },
    {
     "name": "stderr",
     "output_type": "stream",
     "text": [
      "100%|██████████| 603/603 [02:35<00:00,  3.89it/s]\n",
      "100%|██████████| 1549/1549 [00:21<00:00, 73.27it/s]\n"
     ]
    },
    {
     "name": "stdout",
     "output_type": "stream",
     "text": [
      "Epoch 2, Train Loss: 0.057919411689883245, Val Loss: 0.05837511081422731, F1 Score: 0.7338851899768248, acc0.7469335054874112\n",
      "cm[[750 258]\n",
      " [134 407]]\n"
     ]
    },
    {
     "name": "stderr",
     "output_type": "stream",
     "text": [
      "100%|██████████| 603/603 [02:35<00:00,  3.89it/s]\n",
      "100%|██████████| 1549/1549 [00:21<00:00, 72.96it/s]\n"
     ]
    },
    {
     "name": "stdout",
     "output_type": "stream",
     "text": [
      "Epoch 3, Train Loss: 0.03123059110223392, Val Loss: 0.07310760780570212, F1 Score: 0.7534816226735102, acc0.775984506132989\n",
      "cm[[835 173]\n",
      " [174 367]]\n"
     ]
    },
    {
     "name": "stderr",
     "output_type": "stream",
     "text": [
      "100%|██████████| 603/603 [02:35<00:00,  3.88it/s]\n",
      "100%|██████████| 1549/1549 [00:21<00:00, 72.68it/s]\n"
     ]
    },
    {
     "name": "stdout",
     "output_type": "stream",
     "text": [
      "Epoch 4, Train Loss: 0.01430101561273715, Val Loss: 0.05753926120574606, F1 Score: 0.8026572026572028, acc0.8192382182052937\n",
      "cm[[859 149]\n",
      " [131 410]]\n"
     ]
    },
    {
     "name": "stderr",
     "output_type": "stream",
     "text": [
      "100%|██████████| 603/603 [02:35<00:00,  3.88it/s]\n",
      "100%|██████████| 1549/1549 [00:21<00:00, 72.69it/s]\n"
     ]
    },
    {
     "name": "stdout",
     "output_type": "stream",
     "text": [
      "Epoch 5, Train Loss: 0.005250820269228015, Val Loss: 0.09128864656010471, F1 Score: 0.7936405395968122, acc0.816010329244674\n",
      "cm[[887 121]\n",
      " [164 377]]\n"
     ]
    },
    {
     "name": "stderr",
     "output_type": "stream",
     "text": [
      "100%|██████████| 603/603 [02:35<00:00,  3.88it/s]\n",
      "100%|██████████| 1549/1549 [00:21<00:00, 73.00it/s]\n"
     ]
    },
    {
     "name": "stdout",
     "output_type": "stream",
     "text": [
      "Epoch 6, Train Loss: 0.00025833891261115103, Val Loss: 0.1377166553763336, F1 Score: 0.8002332832758245, acc0.8256939961265333\n",
      "cm[[916  92]\n",
      " [178 363]]\n"
     ]
    },
    {
     "name": "stderr",
     "output_type": "stream",
     "text": [
      "100%|██████████| 603/603 [02:35<00:00,  3.88it/s]\n",
      "100%|██████████| 1549/1549 [00:21<00:00, 73.19it/s]\n"
     ]
    },
    {
     "name": "stdout",
     "output_type": "stream",
     "text": [
      "Epoch 7, Train Loss: 3.155942853461047e-05, Val Loss: 0.1335649981665448, F1 Score: 0.8075681681273426, acc0.828921885087153\n",
      "cm[[900 108]\n",
      " [157 384]]\n"
     ]
    },
    {
     "name": "stderr",
     "output_type": "stream",
     "text": [
      "100%|██████████| 603/603 [02:35<00:00,  3.88it/s]\n",
      "100%|██████████| 1549/1549 [00:21<00:00, 73.26it/s]\n"
     ]
    },
    {
     "name": "stdout",
     "output_type": "stream",
     "text": [
      "Epoch 8, Train Loss: 1.4479260363022633e-05, Val Loss: 0.13764811505829813, F1 Score: 0.8083043444352758, acc0.828921885087153\n",
      "cm[[896 112]\n",
      " [153 388]]\n"
     ]
    },
    {
     "name": "stderr",
     "output_type": "stream",
     "text": [
      "100%|██████████| 603/603 [02:35<00:00,  3.88it/s]\n",
      "100%|██████████| 1549/1549 [00:21<00:00, 72.87it/s]\n"
     ]
    },
    {
     "name": "stdout",
     "output_type": "stream",
     "text": [
      "Epoch 9, Train Loss: 8.679860944054958e-06, Val Loss: 0.1458016793964428, F1 Score: 0.8054837089349707, acc0.8269851517107811\n",
      "cm[[898 110]\n",
      " [158 383]]\n"
     ]
    },
    {
     "name": "stderr",
     "output_type": "stream",
     "text": [
      "100%|██████████| 603/603 [02:35<00:00,  3.88it/s]\n",
      " 94%|█████████▍| 1457/1549 [00:19<00:01, 73.98it/s]"
     ]
    }
   ],
   "source": [
    "model = train(model, train_dataloader, val_dataloader, criterion, optimizer, num_epochs=num_epochs, save=True, device=device, backbone=f'{BACKBONE}_{num_classes}class_{LABEL}')"
   ]
  },
  {
   "cell_type": "markdown",
   "id": "fad2f69b",
   "metadata": {},
   "source": [
    "### Test"
   ]
  },
  {
   "cell_type": "code",
   "execution_count": null,
   "id": "4f689e55",
   "metadata": {},
   "outputs": [],
   "source": [
    "test(model, test_dataloader, saliency=True, device=device)"
   ]
  },
  {
   "cell_type": "markdown",
   "id": "e839a0e7",
   "metadata": {},
   "source": [
    "### Image quality assessment"
   ]
  },
  {
   "cell_type": "code",
   "execution_count": null,
   "id": "6b71de66",
   "metadata": {},
   "outputs": [],
   "source": [
    "# Good quality images\n",
    "adequate_df = df_test[df_test['final_quality'] == 'yes']\n",
    "\n",
    "# Bad quality images\n",
    "inadequate_df = df_test[df_test['final_quality'] == 'no']\n",
    "\n",
    "adequate_dataset = BRSETDataset(\n",
    "    adequate_df, \n",
    "    IMAGE_COL, \n",
    "    IMAGES, \n",
    "    LABEL, \n",
    "    mlb, \n",
    "    train_columns, \n",
    "    transform=test_transform\n",
    ")\n",
    "\n",
    "inadequate_dataset = BRSETDataset(\n",
    "    inadequate_df, \n",
    "    IMAGE_COL, \n",
    "    IMAGES, \n",
    "    LABEL, \n",
    "    mlb, \n",
    "    train_columns, \n",
    "    transform=test_transform\n",
    ")\n",
    "\n",
    "adequate_dataloader = DataLoader(adequate_dataset, batch_size=BATCH_SIZE, shuffle=False, num_workers=NUM_WORKERS, pin_memory=True)\n",
    "inadequate_dataloader = DataLoader(inadequate_dataset, batch_size=BATCH_SIZE, shuffle=False, num_workers=NUM_WORKERS, pin_memory=True)"
   ]
  },
  {
   "cell_type": "markdown",
   "id": "894ae4f8",
   "metadata": {},
   "source": [
    "#### Adequate image quality"
   ]
  },
  {
   "cell_type": "code",
   "execution_count": null,
   "id": "a5b908e3",
   "metadata": {},
   "outputs": [],
   "source": [
    "test(model, adequate_dataloader, saliency=True, device=device, save=True)"
   ]
  },
  {
   "cell_type": "markdown",
   "id": "fa373d24",
   "metadata": {},
   "source": [
    "#### Inadequate image quality"
   ]
  },
  {
   "cell_type": "code",
   "execution_count": null,
   "id": "c36ddc09",
   "metadata": {},
   "outputs": [],
   "source": [
    "test(model, inadequate_dataloader, saliency=True, device=device)"
   ]
  },
  {
   "cell_type": "code",
   "execution_count": null,
   "id": "bcbcf3a7",
   "metadata": {},
   "outputs": [],
   "source": []
  }
 ],
 "metadata": {
  "kernelspec": {
   "display_name": "Python 3 (ipykernel)",
   "language": "python",
   "name": "python3"
  },
  "language_info": {
   "codemirror_mode": {
    "name": "ipython",
    "version": 3
   },
   "file_extension": ".py",
   "mimetype": "text/x-python",
   "name": "python",
   "nbconvert_exporter": "python",
   "pygments_lexer": "ipython3",
   "version": "3.9.7"
  }
 },
 "nbformat": 4,
 "nbformat_minor": 5
}
